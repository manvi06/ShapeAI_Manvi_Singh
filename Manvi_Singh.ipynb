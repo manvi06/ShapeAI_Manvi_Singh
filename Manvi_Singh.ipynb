{
  "nbformat": 4,
  "nbformat_minor": 0,
  "metadata": {
    "colab": {
      "name": "Manvi_Singh.ipynb",
      "provenance": [],
      "collapsed_sections": []
    },
    "kernelspec": {
      "name": "python3",
      "display_name": "Python 3"
    },
    "language_info": {
      "name": "python"
    }
  },
  "cells": [
    {
      "cell_type": "code",
      "metadata": {
        "id": "lc5NE9oJKfei"
      },
      "source": [
        "# Importing Dataset\n",
        "from keras.datasets import mnist\n",
        "data = mnist.load_data()"
      ],
      "execution_count": 54,
      "outputs": []
    },
    {
      "cell_type": "markdown",
      "metadata": {
        "id": "kGeWK39WPk9q"
      },
      "source": [
        "Define training and testing data"
      ]
    },
    {
      "cell_type": "code",
      "metadata": {
        "id": "8XrTdhMdO-kY"
      },
      "source": [
        "(X_train, y_train), (X_test, y_test) = data"
      ],
      "execution_count": 55,
      "outputs": []
    },
    {
      "cell_type": "code",
      "metadata": {
        "id": "LBLehIm8ScuI"
      },
      "source": [
        "# Reshape training data\n",
        "X_train = X_train.reshape((X_train.shape[0], 28*28)).astype('float32')\n",
        "X_test = X_test.reshape((X_test.shape[0], 28*28)).astype('float32')"
      ],
      "execution_count": 56,
      "outputs": []
    },
    {
      "cell_type": "code",
      "metadata": {
        "id": "iOZVuosbUbI1"
      },
      "source": [
        "# Normalizing values from 0-255 to 0-1\n",
        "X_train = X_train / 255\n",
        "X_test = X_test / 255"
      ],
      "execution_count": 57,
      "outputs": []
    },
    {
      "cell_type": "code",
      "metadata": {
        "colab": {
          "base_uri": "https://localhost:8080/"
        },
        "id": "WVt_jhNJU3e8",
        "outputId": "963b85a0-6bfd-41b2-8b15-d7b2be3a2015"
      },
      "source": [
        "# To categorical data(0s and 1s)\n",
        "from keras.utils import np_utils\n",
        "\n",
        "print(y_test.shape)\n",
        "\n",
        "y_train = np_utils.to_categorical(y_train)\n",
        "y_test = np_utils.to_categorical(y_test)\n",
        "num_classes = y_test.shape[1]\n",
        "\n",
        "print(y_test.shape)"
      ],
      "execution_count": 58,
      "outputs": [
        {
          "output_type": "stream",
          "text": [
            "(10000,)\n",
            "(10000, 10)\n"
          ],
          "name": "stdout"
        }
      ]
    },
    {
      "cell_type": "code",
      "metadata": {
        "id": "i3YVOAMXV2FD"
      },
      "source": [
        "from keras.models import Sequential\n",
        "from keras.layers import Dense"
      ],
      "execution_count": 59,
      "outputs": []
    },
    {
      "cell_type": "code",
      "metadata": {
        "id": "tMw18QunWvMq"
      },
      "source": [
        "# Define Model\n",
        "model = Sequential()\n",
        "\n",
        "# Add First Hidden Layer\n",
        "model.add(Dense(32, input_dim = 28*28, activation='relu'))\n",
        "\n",
        "# Add Second Hidden Layer\n",
        "model.add(Dense(64, activation='relu'))\n",
        "\n",
        "# Add output layer of having 10 neaurons\n",
        "model.add(Dense(10, activation='softmax'))"
      ],
      "execution_count": 60,
      "outputs": []
    },
    {
      "cell_type": "code",
      "metadata": {
        "id": "iub882zSX0-w"
      },
      "source": [
        "# Compile Model\n",
        "model.compile(loss='categorical_crossentropy', optimizer='adam', metrics=['accuracy'])"
      ],
      "execution_count": 61,
      "outputs": []
    },
    {
      "cell_type": "code",
      "metadata": {
        "colab": {
          "base_uri": "https://localhost:8080/"
        },
        "id": "Wl1gYfa6YSyM",
        "outputId": "8d8fc396-f698-478f-fe26-247481366e6a"
      },
      "source": [
        "# Print model summary \n",
        "model.summary()"
      ],
      "execution_count": 62,
      "outputs": [
        {
          "output_type": "stream",
          "text": [
            "Model: \"sequential_4\"\n",
            "_________________________________________________________________\n",
            "Layer (type)                 Output Shape              Param #   \n",
            "=================================================================\n",
            "dense_9 (Dense)              (None, 32)                25120     \n",
            "_________________________________________________________________\n",
            "dense_10 (Dense)             (None, 64)                2112      \n",
            "_________________________________________________________________\n",
            "dense_11 (Dense)             (None, 10)                650       \n",
            "=================================================================\n",
            "Total params: 27,882\n",
            "Trainable params: 27,882\n",
            "Non-trainable params: 0\n",
            "_________________________________________________________________\n"
          ],
          "name": "stdout"
        }
      ]
    },
    {
      "cell_type": "code",
      "metadata": {
        "colab": {
          "base_uri": "https://localhost:8080/"
        },
        "id": "5AxC4dStcA2s",
        "outputId": "d52e0701-0ab7-40ae-efa1-0faf6d542a2e"
      },
      "source": [
        "# Train Model\n",
        "model.fit(X_train, y_train, epochs=10, batch_size=100)"
      ],
      "execution_count": 63,
      "outputs": [
        {
          "output_type": "stream",
          "text": [
            "Epoch 1/10\n",
            "600/600 [==============================] - 2s 3ms/step - loss: 0.7579 - accuracy: 0.7821\n",
            "Epoch 2/10\n",
            "600/600 [==============================] - 2s 3ms/step - loss: 0.2135 - accuracy: 0.9375\n",
            "Epoch 3/10\n",
            "600/600 [==============================] - 2s 3ms/step - loss: 0.1595 - accuracy: 0.9523\n",
            "Epoch 4/10\n",
            "600/600 [==============================] - 2s 3ms/step - loss: 0.1331 - accuracy: 0.9610\n",
            "Epoch 5/10\n",
            "600/600 [==============================] - 2s 2ms/step - loss: 0.1061 - accuracy: 0.9687\n",
            "Epoch 6/10\n",
            "600/600 [==============================] - 1s 2ms/step - loss: 0.0942 - accuracy: 0.9718\n",
            "Epoch 7/10\n",
            "600/600 [==============================] - 2s 3ms/step - loss: 0.0854 - accuracy: 0.9738\n",
            "Epoch 8/10\n",
            "600/600 [==============================] - 1s 2ms/step - loss: 0.0748 - accuracy: 0.9778\n",
            "Epoch 9/10\n",
            "600/600 [==============================] - 1s 2ms/step - loss: 0.0696 - accuracy: 0.9787\n",
            "Epoch 10/10\n",
            "600/600 [==============================] - 2s 3ms/step - loss: 0.0642 - accuracy: 0.9809\n"
          ],
          "name": "stdout"
        },
        {
          "output_type": "execute_result",
          "data": {
            "text/plain": [
              "<tensorflow.python.keras.callbacks.History at 0x7fd90fc6a990>"
            ]
          },
          "metadata": {
            "tags": []
          },
          "execution_count": 63
        }
      ]
    },
    {
      "cell_type": "markdown",
      "metadata": {
        "id": "cgR42xzGcojO"
      },
      "source": [
        "Check Model Performance"
      ]
    },
    {
      "cell_type": "code",
      "metadata": {
        "colab": {
          "base_uri": "https://localhost:8080/"
        },
        "id": "AV8czc9-cq60",
        "outputId": "3ea32291-2fc8-4e62-9c14-ac6cc04cf31d"
      },
      "source": [
        "scores = model.evaluate(X_test, y_test)\n",
        "print(scores)         # retuens loss and accuracy"
      ],
      "execution_count": 64,
      "outputs": [
        {
          "output_type": "stream",
          "text": [
            "313/313 [==============================] - 1s 1ms/step - loss: 0.1020 - accuracy: 0.9696\n",
            "[0.10196101665496826, 0.9696000218391418]\n"
          ],
          "name": "stdout"
        }
      ]
    }
  ]
}